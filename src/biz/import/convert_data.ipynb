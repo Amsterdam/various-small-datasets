{
 "cells": [
  {
   "cell_type": "code",
   "execution_count": 21,
   "metadata": {
    "collapsed": true
   },
   "outputs": [],
   "source": [
    "import pandas\n",
    "\n",
    "# Read Excel sheet in dataframe df \n",
    "df = pandas.read_excel('data/Dataset BIZ v4.xlsx', sheet_name=1)"
   ]
  },
  {
   "cell_type": "code",
   "execution_count": 22,
   "metadata": {},
   "outputs": [
    {
     "name": "stdout",
     "output_type": "stream",
     "text": [
      "1evSwindenstraat\n",
      "1evdhelsttstraat\n",
      "AlbertCuypstraat\n",
      "BC Osdorp\n",
      "Beethovenstraat\n",
      "Beukenplein\n",
      "Bilderdijkstraat\n",
      "Ceintuurbaan\n",
      "Cor Schuijtstraat\n",
      "CzaarPeter\n",
      "Dam\n",
      "Damrak_2017\n",
      "De clercqstraat\n",
      "Delflandplein\n",
      "Eerste C Huygensstraat\n",
      "Eerste Oosterparkstraat\n",
      "Ferdinandbol\n",
      "Ferdinandbol_2017\n",
      "Haarlemmerstraat\n",
      "Haarlemmerstraat_2017\n",
      "Hoofddorppleinbuurt\n",
      "JP Heijerstraat\n",
      "J_Evertsen\n",
      "Jodebreestraat\n",
      "Jordaan Zuid\n",
      "KalverstraatOndernemers\n",
      "Kinkerstraat\n",
      "Leidseplein\n",
      "Maasstraat\n",
      "Museumkwartier\n",
      "Nes\n",
      "Olympiaplein\n",
      "OsdorpCentrum\n",
      "OsdorperbanEigenaar\n",
      "OsdprBanOndernemer\n",
      "PrinsHeerlijk\n",
      "PrinsHeerlijk_2017\n",
      "RaadhuisstraatWestermarkt\n",
      "Reguliersdwarsstraat\n",
      "Rembrandtplein\n",
      "Rijnstraat\n",
      "RokinOndernemers\n",
      "Rozengracht\n",
      "Rozengracht_2017\n",
      "SpuistraatEO\n",
      "Ten Katestraat\n",
      "Utrechtsestraat\n",
      "Utrechtsestraat_2017\n",
      "V Woustraat\n",
      "Van Dam tot Stopera\n",
      "Van Dam tot Stopera_2017\n",
      "Vdhelstplein\n",
      "Warmoesstraat\n",
      "Wibautstraat\n",
      "Zeedijk\n"
     ]
    }
   ],
   "source": [
    "import re\n",
    "\n",
    "# Read SQL data  in shape_map dictionary\n",
    "sqlPath = 'tmp/BIZZONES.utf8.sql'\n",
    "sqlFile = open(sqlPath,'r')\n",
    "sql = sqlFile.readlines()\n",
    "shape_map = dict()\n",
    "for line in sql:\n",
    "     m = re.search('INSERT INTO \"public\"\\.\"bizzones\" \\(\"wkb_geometry\" , \"id1\", \"naam\", \"aktief\", \"ddingang\".*\\) VALUES \\(\\'([^\\']+)\\', (\\d+), \\'([^\\']+)\\', \\'([^\\']+)\\', \\'([^\\']+)\\'', line)\n",
    "     if m:\n",
    "        geometry, id1, naam, aktief, ddingang = m.group(1), m.group(2), m.group(3), m.group(4), m.group(5)   \n",
    "        if aktief == 'Ja':\n",
    "            shape_map[naam] = (geometry, id1, ddingang, naam) \n",
    "\n",
    "l = list(shape_map.keys())\n",
    "l.sort()\n",
    "print(\"\\n\".join(l) )       "
   ]
  },
  {
   "cell_type": "code",
   "execution_count": 23,
   "metadata": {
    "collapsed": true
   },
   "outputs": [],
   "source": [
    "# Add name mapping. This maps the name in the spreadsheet to the name in the shape file\n",
    "\n",
    "name_mapping = {\n",
    " 'Albert Cuyp': 'AlbertCuypstraat',\n",
    " 'Bedrijvencentrum Osdorp': 'BC Osdorp',\n",
    " 'Beukenweg-Beukenplein': 'Beukenplein',\n",
    " 'Cornelis Schuytstraat': 'Cor Schuijtstraat',\n",
    " 'Damrak': 'Damrak_2017',\n",
    " 'De Clercqstraat': 'De clercqstraat',\n",
    " 'Eerste van der Helststraat': '1evdhelsttstraat',\n",
    " 'Eerste van Swindenstraat':'1evSwindenstraat',   \n",
    " 'Ferdinand Bolstraat': 'Ferdinandbol_2017',\n",
    " 'Haarlemmerbuurt 2e termijn': 'Haarlemmerstraat_2017',\n",
    " 'Hoofddorpplein e.o.': 'Hoofddorppleinbuurt',\n",
    " 'Jan Pieter Heijestraat': 'JP Heijerstraat',\n",
    " 'Jodenbreestraat-Antoniesbreestraat': 'Jodebreestraat',\n",
    " 'Kalverstraat-Heiligeweg gebruikers': 'KalverstraatOndernemers',\n",
    " 'Knowledge Mile': 'Wibautstraat',\n",
    " 'Olympiapleinbuurt': 'Olympiaplein',\n",
    " 'Oostelijke Eilanden & Czaar Peterbuurt': 'CzaarPeter',\n",
    " 'Osdorp Centrum': 'OsdorpCentrum',\n",
    " 'Osdorper Ban eigenaren': 'OsdorperbanEigenaar',\n",
    " 'Oud West':'Eerste C Huygensstraat',   \n",
    " 'Prinsheerlijk': 'PrinsHeerlijk_2017',\n",
    " 'Raadhuisstraat-Westermarkt': 'RaadhuisstraatWestermarkt',\n",
    " 'Rembrandtplein/Thorbeckeplein': 'Rembrandtplein',\n",
    " 'Rokin gebruikers': 'RokinOndernemers',\n",
    " 'Rozengracht': 'Rozengracht_2017',\n",
    " 'Spuistraat': 'SpuistraatEO',\n",
    " 'Uitgaansgebied Leidsebuurt': 'Leidseplein',\n",
    " 'Utrechtsestraat': 'Utrechtsestraat_2017',\n",
    " 'Van Dam tot Stopera': 'Van Dam tot Stopera_2017',\n",
    " 'Van Woustraat': 'V Woustraat',\n",
    " 'Van der Helstplein': 'Vdhelstplein',\n",
    " 'Warmoesstraat en omgeving': 'Warmoesstraat'\n",
    "}\n",
    "\n"
   ]
  },
  {
   "cell_type": "code",
   "execution_count": 24,
   "metadata": {},
   "outputs": [
    {
     "data": {
      "text/html": [
       "<div>\n",
       "<style scoped>\n",
       "    .dataframe tbody tr th:only-of-type {\n",
       "        vertical-align: middle;\n",
       "    }\n",
       "\n",
       "    .dataframe tbody tr th {\n",
       "        vertical-align: top;\n",
       "    }\n",
       "\n",
       "    .dataframe thead th {\n",
       "        text-align: right;\n",
       "    }\n",
       "</style>\n",
       "<table border=\"1\" class=\"dataframe\">\n",
       "  <thead>\n",
       "    <tr style=\"text-align: right;\">\n",
       "      <th></th>\n",
       "      <th>Naam BIZ</th>\n",
       "      <th>geometry</th>\n",
       "    </tr>\n",
       "  </thead>\n",
       "  <tbody>\n",
       "    <tr>\n",
       "      <th>1</th>\n",
       "      <td>Rokin eigenaren</td>\n",
       "      <td>None</td>\n",
       "    </tr>\n",
       "    <tr>\n",
       "      <th>40</th>\n",
       "      <td>Kalverstraat-Heiligeweg eigenaren</td>\n",
       "      <td>None</td>\n",
       "    </tr>\n",
       "  </tbody>\n",
       "</table>\n",
       "</div>"
      ],
      "text/plain": [
       "                             Naam BIZ geometry\n",
       "1                     Rokin eigenaren     None\n",
       "40  Kalverstraat-Heiligeweg eigenaren     None"
      ]
     },
     "execution_count": 24,
     "metadata": {},
     "output_type": "execute_result"
    }
   ],
   "source": [
    "def find_geometry(name):\n",
    "    m_name = name_mapping[name] if name in name_mapping else name\n",
    "    return shape_map[m_name][0] if m_name in shape_map else None\n",
    "\n",
    "df['geometry'] =  df['Naam BIZ'].apply(find_geometry)  \n",
    "\n",
    "df1 = df[['Naam BIZ','geometry']]\n",
    "\n",
    "df1[df1['geometry'].isnull()]"
   ]
  },
  {
   "cell_type": "code",
   "execution_count": 25,
   "metadata": {},
   "outputs": [
    {
     "data": {
      "text/plain": [
       "True"
      ]
     },
     "execution_count": 25,
     "metadata": {},
     "output_type": "execute_result"
    }
   ],
   "source": [
    "import math \n",
    "# Create insert statements\n",
    "\n",
    "def makequote(s):\n",
    "    return \"'\"+s+\"'\"\n",
    "\n",
    "def makesrid28992(s):\n",
    "    return \"ST_SetSRID('\" + s + \"'::geometry, 28992)\"\n",
    "\n",
    "def make_insert(t):\n",
    "    insert = '''insert into biz_data(\n",
    "  biz_id  \n",
    ", naam\n",
    ", biz_type\n",
    ", heffingsgrondslag\n",
    ", website\n",
    ", heffing\n",
    ", bijdrageplichtigen\n",
    ", verordening\n",
    ", wkb_geometry) \n",
    "values (\n",
    "  {}\n",
    ", '{}'\n",
    ", '{}'\n",
    ", '{}'\n",
    ", {}\n",
    ", {}\n",
    ", {}\n",
    ", '{}'\n",
    ", {}\n",
    ");\n",
    "'''.format(t[0]\n",
    "           , t[1]\n",
    "           , t[3]\n",
    "           , t[4]\n",
    "           , 'NULL' if isinstance(t[5], float) and math.isnan(t[5]) else makequote(t[5])\n",
    "           , 'NULL' if math.isnan(t[6]) else int(t[6]) \n",
    "           , 'NULL' if math.isnan(t[7]) else int(t[7]) \n",
    "           , t[8]\n",
    "           , 'NULL'  if t[9] is None else makesrid28992(t[9]))\n",
    "    return insert;\n",
    "\n",
    "inserts = []\n",
    "for t in df.itertuples():\n",
    "    inserts.append(make_insert(t))\n",
    "    \n",
    "# Write file \n",
    "with open('biz_data_insert.sql', 'w') as f:\n",
    "    f.write(\"\\n\".join(inserts))\n",
    "f.closed\n",
    "    \n"
   ]
  },
  {
   "cell_type": "code",
   "execution_count": null,
   "metadata": {
    "collapsed": true
   },
   "outputs": [],
   "source": []
  }
 ],
 "metadata": {
  "kernelspec": {
   "display_name": "Python 3",
   "language": "python",
   "name": "python3"
  },
  "language_info": {
   "codemirror_mode": {
    "name": "ipython",
    "version": 3
   },
   "file_extension": ".py",
   "mimetype": "text/x-python",
   "name": "python",
   "nbconvert_exporter": "python",
   "pygments_lexer": "ipython3",
   "version": "3.6.2"
  }
 },
 "nbformat": 4,
 "nbformat_minor": 2
}
